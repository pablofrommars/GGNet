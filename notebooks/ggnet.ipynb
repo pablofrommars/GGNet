{
 "cells": [
  {
   "cell_type": "code",
   "execution_count": null,
   "metadata": {
    "dotnet_interactive": {
     "language": "csharp"
    },
    "vscode": {
     "languageId": "polyglot-notebook"
    }
   },
   "outputs": [],
   "source": [
    "#i \"/Users/pablo/source/GGNet/packages\"\n",
    "#r \"nuget:GGNet.InteractiveExtension,*-*\"\n",
    "#r \"nuget:GGNet.Datasets,*-*\"\n",
    "\n",
    "using GGNet;\n",
    "using GGNet.Datasets;"
   ]
  },
  {
   "cell_type": "code",
   "execution_count": null,
   "metadata": {
    "dotnet_interactive": {
     "language": "csharp"
    },
    "vscode": {
     "languageId": "polyglot-notebook"
    }
   },
   "outputs": [],
   "source": [
    "Plot.New(Iris.Load(), x: o => o.SepalLength, y: o => o.SepalWidth)\n",
    "\t.Geom_Point()\n",
    "\t.Scale_Color_Discrete(o => o.Species, Colors.Viridis, name: \"Species\")\n",
    "\t.Title(\"Fisher's Iris\")\n",
    "\t.XLab(\"Sepal Lenght (cm)\")\n",
    "\t.YLab(\"Sepal Width (cm)\")\n",
    "\t.Theme(legend: Position.Top)"
   ]
  }
 ],
 "metadata": {
  "kernelspec": {
   "display_name": ".NET (C#)",
   "language": "C#",
   "name": ".net-csharp"
  },
  "language_info": {
   "name": "C#"
  }
 },
 "nbformat": 4,
 "nbformat_minor": 2
}
